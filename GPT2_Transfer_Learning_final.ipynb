{
  "nbformat": 4,
  "nbformat_minor": 0,
  "metadata": {
    "colab": {
      "name": "GPT2_Transfer Learning_final.ipynb",
      "provenance": [],
      "collapsed_sections": [],
      "authorship_tag": "ABX9TyOoJp4fdsz7GTJ1uMG3E8Lg",
      "include_colab_link": true
    },
    "kernelspec": {
      "name": "python3",
      "display_name": "Python 3"
    },
    "language_info": {
      "name": "python"
    },
    "widgets": {
      "application/vnd.jupyter.widget-state+json": {
        "c9912049a982406d932e3adc9fe9d61c": {
          "model_module": "@jupyter-widgets/controls",
          "model_name": "HBoxModel",
          "model_module_version": "1.5.0",
          "state": {
            "_dom_classes": [],
            "_model_module": "@jupyter-widgets/controls",
            "_model_module_version": "1.5.0",
            "_model_name": "HBoxModel",
            "_view_count": null,
            "_view_module": "@jupyter-widgets/controls",
            "_view_module_version": "1.5.0",
            "_view_name": "HBoxView",
            "box_style": "",
            "children": [
              "IPY_MODEL_7d5b54e17c354b1f800f81d4a5428ff9",
              "IPY_MODEL_21566811379146c8b55caf7b0a9c5b27",
              "IPY_MODEL_ba51d2f688d84cf19773787a27583f4c"
            ],
            "layout": "IPY_MODEL_e6bc18dd228142a3864176937738086a"
          }
        },
        "7d5b54e17c354b1f800f81d4a5428ff9": {
          "model_module": "@jupyter-widgets/controls",
          "model_name": "HTMLModel",
          "model_module_version": "1.5.0",
          "state": {
            "_dom_classes": [],
            "_model_module": "@jupyter-widgets/controls",
            "_model_module_version": "1.5.0",
            "_model_name": "HTMLModel",
            "_view_count": null,
            "_view_module": "@jupyter-widgets/controls",
            "_view_module_version": "1.5.0",
            "_view_name": "HTMLView",
            "description": "",
            "description_tooltip": null,
            "layout": "IPY_MODEL_9bdd99caf0ad4f038e731883dce2146e",
            "placeholder": "​",
            "style": "IPY_MODEL_bce97fa787184732a997abc82a931e05",
            "value": "Downloading: 100%"
          }
        },
        "21566811379146c8b55caf7b0a9c5b27": {
          "model_module": "@jupyter-widgets/controls",
          "model_name": "FloatProgressModel",
          "model_module_version": "1.5.0",
          "state": {
            "_dom_classes": [],
            "_model_module": "@jupyter-widgets/controls",
            "_model_module_version": "1.5.0",
            "_model_name": "FloatProgressModel",
            "_view_count": null,
            "_view_module": "@jupyter-widgets/controls",
            "_view_module_version": "1.5.0",
            "_view_name": "ProgressView",
            "bar_style": "success",
            "description": "",
            "description_tooltip": null,
            "layout": "IPY_MODEL_7dc0ed7811c846b2bf71e8b4e938a0ae",
            "max": 1042301,
            "min": 0,
            "orientation": "horizontal",
            "style": "IPY_MODEL_4ba8ac9b9cc14acca878c21c0e7072d5",
            "value": 1042301
          }
        },
        "ba51d2f688d84cf19773787a27583f4c": {
          "model_module": "@jupyter-widgets/controls",
          "model_name": "HTMLModel",
          "model_module_version": "1.5.0",
          "state": {
            "_dom_classes": [],
            "_model_module": "@jupyter-widgets/controls",
            "_model_module_version": "1.5.0",
            "_model_name": "HTMLModel",
            "_view_count": null,
            "_view_module": "@jupyter-widgets/controls",
            "_view_module_version": "1.5.0",
            "_view_name": "HTMLView",
            "description": "",
            "description_tooltip": null,
            "layout": "IPY_MODEL_e1f6d37f989543ce87e12a1f73446bba",
            "placeholder": "​",
            "style": "IPY_MODEL_af94ed620f9546a191a5f61685e15cf5",
            "value": " 0.99M/0.99M [00:00&lt;00:00, 2.09MB/s]"
          }
        },
        "e6bc18dd228142a3864176937738086a": {
          "model_module": "@jupyter-widgets/base",
          "model_name": "LayoutModel",
          "model_module_version": "1.2.0",
          "state": {
            "_model_module": "@jupyter-widgets/base",
            "_model_module_version": "1.2.0",
            "_model_name": "LayoutModel",
            "_view_count": null,
            "_view_module": "@jupyter-widgets/base",
            "_view_module_version": "1.2.0",
            "_view_name": "LayoutView",
            "align_content": null,
            "align_items": null,
            "align_self": null,
            "border": null,
            "bottom": null,
            "display": null,
            "flex": null,
            "flex_flow": null,
            "grid_area": null,
            "grid_auto_columns": null,
            "grid_auto_flow": null,
            "grid_auto_rows": null,
            "grid_column": null,
            "grid_gap": null,
            "grid_row": null,
            "grid_template_areas": null,
            "grid_template_columns": null,
            "grid_template_rows": null,
            "height": null,
            "justify_content": null,
            "justify_items": null,
            "left": null,
            "margin": null,
            "max_height": null,
            "max_width": null,
            "min_height": null,
            "min_width": null,
            "object_fit": null,
            "object_position": null,
            "order": null,
            "overflow": null,
            "overflow_x": null,
            "overflow_y": null,
            "padding": null,
            "right": null,
            "top": null,
            "visibility": null,
            "width": null
          }
        },
        "9bdd99caf0ad4f038e731883dce2146e": {
          "model_module": "@jupyter-widgets/base",
          "model_name": "LayoutModel",
          "model_module_version": "1.2.0",
          "state": {
            "_model_module": "@jupyter-widgets/base",
            "_model_module_version": "1.2.0",
            "_model_name": "LayoutModel",
            "_view_count": null,
            "_view_module": "@jupyter-widgets/base",
            "_view_module_version": "1.2.0",
            "_view_name": "LayoutView",
            "align_content": null,
            "align_items": null,
            "align_self": null,
            "border": null,
            "bottom": null,
            "display": null,
            "flex": null,
            "flex_flow": null,
            "grid_area": null,
            "grid_auto_columns": null,
            "grid_auto_flow": null,
            "grid_auto_rows": null,
            "grid_column": null,
            "grid_gap": null,
            "grid_row": null,
            "grid_template_areas": null,
            "grid_template_columns": null,
            "grid_template_rows": null,
            "height": null,
            "justify_content": null,
            "justify_items": null,
            "left": null,
            "margin": null,
            "max_height": null,
            "max_width": null,
            "min_height": null,
            "min_width": null,
            "object_fit": null,
            "object_position": null,
            "order": null,
            "overflow": null,
            "overflow_x": null,
            "overflow_y": null,
            "padding": null,
            "right": null,
            "top": null,
            "visibility": null,
            "width": null
          }
        },
        "bce97fa787184732a997abc82a931e05": {
          "model_module": "@jupyter-widgets/controls",
          "model_name": "DescriptionStyleModel",
          "model_module_version": "1.5.0",
          "state": {
            "_model_module": "@jupyter-widgets/controls",
            "_model_module_version": "1.5.0",
            "_model_name": "DescriptionStyleModel",
            "_view_count": null,
            "_view_module": "@jupyter-widgets/base",
            "_view_module_version": "1.2.0",
            "_view_name": "StyleView",
            "description_width": ""
          }
        },
        "7dc0ed7811c846b2bf71e8b4e938a0ae": {
          "model_module": "@jupyter-widgets/base",
          "model_name": "LayoutModel",
          "model_module_version": "1.2.0",
          "state": {
            "_model_module": "@jupyter-widgets/base",
            "_model_module_version": "1.2.0",
            "_model_name": "LayoutModel",
            "_view_count": null,
            "_view_module": "@jupyter-widgets/base",
            "_view_module_version": "1.2.0",
            "_view_name": "LayoutView",
            "align_content": null,
            "align_items": null,
            "align_self": null,
            "border": null,
            "bottom": null,
            "display": null,
            "flex": null,
            "flex_flow": null,
            "grid_area": null,
            "grid_auto_columns": null,
            "grid_auto_flow": null,
            "grid_auto_rows": null,
            "grid_column": null,
            "grid_gap": null,
            "grid_row": null,
            "grid_template_areas": null,
            "grid_template_columns": null,
            "grid_template_rows": null,
            "height": null,
            "justify_content": null,
            "justify_items": null,
            "left": null,
            "margin": null,
            "max_height": null,
            "max_width": null,
            "min_height": null,
            "min_width": null,
            "object_fit": null,
            "object_position": null,
            "order": null,
            "overflow": null,
            "overflow_x": null,
            "overflow_y": null,
            "padding": null,
            "right": null,
            "top": null,
            "visibility": null,
            "width": null
          }
        },
        "4ba8ac9b9cc14acca878c21c0e7072d5": {
          "model_module": "@jupyter-widgets/controls",
          "model_name": "ProgressStyleModel",
          "model_module_version": "1.5.0",
          "state": {
            "_model_module": "@jupyter-widgets/controls",
            "_model_module_version": "1.5.0",
            "_model_name": "ProgressStyleModel",
            "_view_count": null,
            "_view_module": "@jupyter-widgets/base",
            "_view_module_version": "1.2.0",
            "_view_name": "StyleView",
            "bar_color": null,
            "description_width": ""
          }
        },
        "e1f6d37f989543ce87e12a1f73446bba": {
          "model_module": "@jupyter-widgets/base",
          "model_name": "LayoutModel",
          "model_module_version": "1.2.0",
          "state": {
            "_model_module": "@jupyter-widgets/base",
            "_model_module_version": "1.2.0",
            "_model_name": "LayoutModel",
            "_view_count": null,
            "_view_module": "@jupyter-widgets/base",
            "_view_module_version": "1.2.0",
            "_view_name": "LayoutView",
            "align_content": null,
            "align_items": null,
            "align_self": null,
            "border": null,
            "bottom": null,
            "display": null,
            "flex": null,
            "flex_flow": null,
            "grid_area": null,
            "grid_auto_columns": null,
            "grid_auto_flow": null,
            "grid_auto_rows": null,
            "grid_column": null,
            "grid_gap": null,
            "grid_row": null,
            "grid_template_areas": null,
            "grid_template_columns": null,
            "grid_template_rows": null,
            "height": null,
            "justify_content": null,
            "justify_items": null,
            "left": null,
            "margin": null,
            "max_height": null,
            "max_width": null,
            "min_height": null,
            "min_width": null,
            "object_fit": null,
            "object_position": null,
            "order": null,
            "overflow": null,
            "overflow_x": null,
            "overflow_y": null,
            "padding": null,
            "right": null,
            "top": null,
            "visibility": null,
            "width": null
          }
        },
        "af94ed620f9546a191a5f61685e15cf5": {
          "model_module": "@jupyter-widgets/controls",
          "model_name": "DescriptionStyleModel",
          "model_module_version": "1.5.0",
          "state": {
            "_model_module": "@jupyter-widgets/controls",
            "_model_module_version": "1.5.0",
            "_model_name": "DescriptionStyleModel",
            "_view_count": null,
            "_view_module": "@jupyter-widgets/base",
            "_view_module_version": "1.2.0",
            "_view_name": "StyleView",
            "description_width": ""
          }
        },
        "dab83b336aa246e8b0e9538eb0db0a34": {
          "model_module": "@jupyter-widgets/controls",
          "model_name": "HBoxModel",
          "model_module_version": "1.5.0",
          "state": {
            "_dom_classes": [],
            "_model_module": "@jupyter-widgets/controls",
            "_model_module_version": "1.5.0",
            "_model_name": "HBoxModel",
            "_view_count": null,
            "_view_module": "@jupyter-widgets/controls",
            "_view_module_version": "1.5.0",
            "_view_name": "HBoxView",
            "box_style": "",
            "children": [
              "IPY_MODEL_2395423f62884341b2abca5418552ecf",
              "IPY_MODEL_5aef99c2bf354ed7bc518dd346eea6f8",
              "IPY_MODEL_5221c7c45d0046b99285d0dff6a801b0"
            ],
            "layout": "IPY_MODEL_32bd62bd982a42ad8910bfea5142b583"
          }
        },
        "2395423f62884341b2abca5418552ecf": {
          "model_module": "@jupyter-widgets/controls",
          "model_name": "HTMLModel",
          "model_module_version": "1.5.0",
          "state": {
            "_dom_classes": [],
            "_model_module": "@jupyter-widgets/controls",
            "_model_module_version": "1.5.0",
            "_model_name": "HTMLModel",
            "_view_count": null,
            "_view_module": "@jupyter-widgets/controls",
            "_view_module_version": "1.5.0",
            "_view_name": "HTMLView",
            "description": "",
            "description_tooltip": null,
            "layout": "IPY_MODEL_6e9eb2f64a504f908d3e6928e4303353",
            "placeholder": "​",
            "style": "IPY_MODEL_ea6fb84bd978400c89d313411bdd23db",
            "value": "Downloading: 100%"
          }
        },
        "5aef99c2bf354ed7bc518dd346eea6f8": {
          "model_module": "@jupyter-widgets/controls",
          "model_name": "FloatProgressModel",
          "model_module_version": "1.5.0",
          "state": {
            "_dom_classes": [],
            "_model_module": "@jupyter-widgets/controls",
            "_model_module_version": "1.5.0",
            "_model_name": "FloatProgressModel",
            "_view_count": null,
            "_view_module": "@jupyter-widgets/controls",
            "_view_module_version": "1.5.0",
            "_view_name": "ProgressView",
            "bar_style": "success",
            "description": "",
            "description_tooltip": null,
            "layout": "IPY_MODEL_34b011e3fc354d7eb5073d3700ba917a",
            "max": 456318,
            "min": 0,
            "orientation": "horizontal",
            "style": "IPY_MODEL_62b30326d739469f80f3f403ae82b732",
            "value": 456318
          }
        },
        "5221c7c45d0046b99285d0dff6a801b0": {
          "model_module": "@jupyter-widgets/controls",
          "model_name": "HTMLModel",
          "model_module_version": "1.5.0",
          "state": {
            "_dom_classes": [],
            "_model_module": "@jupyter-widgets/controls",
            "_model_module_version": "1.5.0",
            "_model_name": "HTMLModel",
            "_view_count": null,
            "_view_module": "@jupyter-widgets/controls",
            "_view_module_version": "1.5.0",
            "_view_name": "HTMLView",
            "description": "",
            "description_tooltip": null,
            "layout": "IPY_MODEL_dbc56bed04ce46b99494f2fa3ea6effc",
            "placeholder": "​",
            "style": "IPY_MODEL_5a4c92e4b3b644d4a47ba20ae282c1ae",
            "value": " 446k/446k [00:00&lt;00:00, 6.68kB/s]"
          }
        },
        "32bd62bd982a42ad8910bfea5142b583": {
          "model_module": "@jupyter-widgets/base",
          "model_name": "LayoutModel",
          "model_module_version": "1.2.0",
          "state": {
            "_model_module": "@jupyter-widgets/base",
            "_model_module_version": "1.2.0",
            "_model_name": "LayoutModel",
            "_view_count": null,
            "_view_module": "@jupyter-widgets/base",
            "_view_module_version": "1.2.0",
            "_view_name": "LayoutView",
            "align_content": null,
            "align_items": null,
            "align_self": null,
            "border": null,
            "bottom": null,
            "display": null,
            "flex": null,
            "flex_flow": null,
            "grid_area": null,
            "grid_auto_columns": null,
            "grid_auto_flow": null,
            "grid_auto_rows": null,
            "grid_column": null,
            "grid_gap": null,
            "grid_row": null,
            "grid_template_areas": null,
            "grid_template_columns": null,
            "grid_template_rows": null,
            "height": null,
            "justify_content": null,
            "justify_items": null,
            "left": null,
            "margin": null,
            "max_height": null,
            "max_width": null,
            "min_height": null,
            "min_width": null,
            "object_fit": null,
            "object_position": null,
            "order": null,
            "overflow": null,
            "overflow_x": null,
            "overflow_y": null,
            "padding": null,
            "right": null,
            "top": null,
            "visibility": null,
            "width": null
          }
        },
        "6e9eb2f64a504f908d3e6928e4303353": {
          "model_module": "@jupyter-widgets/base",
          "model_name": "LayoutModel",
          "model_module_version": "1.2.0",
          "state": {
            "_model_module": "@jupyter-widgets/base",
            "_model_module_version": "1.2.0",
            "_model_name": "LayoutModel",
            "_view_count": null,
            "_view_module": "@jupyter-widgets/base",
            "_view_module_version": "1.2.0",
            "_view_name": "LayoutView",
            "align_content": null,
            "align_items": null,
            "align_self": null,
            "border": null,
            "bottom": null,
            "display": null,
            "flex": null,
            "flex_flow": null,
            "grid_area": null,
            "grid_auto_columns": null,
            "grid_auto_flow": null,
            "grid_auto_rows": null,
            "grid_column": null,
            "grid_gap": null,
            "grid_row": null,
            "grid_template_areas": null,
            "grid_template_columns": null,
            "grid_template_rows": null,
            "height": null,
            "justify_content": null,
            "justify_items": null,
            "left": null,
            "margin": null,
            "max_height": null,
            "max_width": null,
            "min_height": null,
            "min_width": null,
            "object_fit": null,
            "object_position": null,
            "order": null,
            "overflow": null,
            "overflow_x": null,
            "overflow_y": null,
            "padding": null,
            "right": null,
            "top": null,
            "visibility": null,
            "width": null
          }
        },
        "ea6fb84bd978400c89d313411bdd23db": {
          "model_module": "@jupyter-widgets/controls",
          "model_name": "DescriptionStyleModel",
          "model_module_version": "1.5.0",
          "state": {
            "_model_module": "@jupyter-widgets/controls",
            "_model_module_version": "1.5.0",
            "_model_name": "DescriptionStyleModel",
            "_view_count": null,
            "_view_module": "@jupyter-widgets/base",
            "_view_module_version": "1.2.0",
            "_view_name": "StyleView",
            "description_width": ""
          }
        },
        "34b011e3fc354d7eb5073d3700ba917a": {
          "model_module": "@jupyter-widgets/base",
          "model_name": "LayoutModel",
          "model_module_version": "1.2.0",
          "state": {
            "_model_module": "@jupyter-widgets/base",
            "_model_module_version": "1.2.0",
            "_model_name": "LayoutModel",
            "_view_count": null,
            "_view_module": "@jupyter-widgets/base",
            "_view_module_version": "1.2.0",
            "_view_name": "LayoutView",
            "align_content": null,
            "align_items": null,
            "align_self": null,
            "border": null,
            "bottom": null,
            "display": null,
            "flex": null,
            "flex_flow": null,
            "grid_area": null,
            "grid_auto_columns": null,
            "grid_auto_flow": null,
            "grid_auto_rows": null,
            "grid_column": null,
            "grid_gap": null,
            "grid_row": null,
            "grid_template_areas": null,
            "grid_template_columns": null,
            "grid_template_rows": null,
            "height": null,
            "justify_content": null,
            "justify_items": null,
            "left": null,
            "margin": null,
            "max_height": null,
            "max_width": null,
            "min_height": null,
            "min_width": null,
            "object_fit": null,
            "object_position": null,
            "order": null,
            "overflow": null,
            "overflow_x": null,
            "overflow_y": null,
            "padding": null,
            "right": null,
            "top": null,
            "visibility": null,
            "width": null
          }
        },
        "62b30326d739469f80f3f403ae82b732": {
          "model_module": "@jupyter-widgets/controls",
          "model_name": "ProgressStyleModel",
          "model_module_version": "1.5.0",
          "state": {
            "_model_module": "@jupyter-widgets/controls",
            "_model_module_version": "1.5.0",
            "_model_name": "ProgressStyleModel",
            "_view_count": null,
            "_view_module": "@jupyter-widgets/base",
            "_view_module_version": "1.2.0",
            "_view_name": "StyleView",
            "bar_color": null,
            "description_width": ""
          }
        },
        "dbc56bed04ce46b99494f2fa3ea6effc": {
          "model_module": "@jupyter-widgets/base",
          "model_name": "LayoutModel",
          "model_module_version": "1.2.0",
          "state": {
            "_model_module": "@jupyter-widgets/base",
            "_model_module_version": "1.2.0",
            "_model_name": "LayoutModel",
            "_view_count": null,
            "_view_module": "@jupyter-widgets/base",
            "_view_module_version": "1.2.0",
            "_view_name": "LayoutView",
            "align_content": null,
            "align_items": null,
            "align_self": null,
            "border": null,
            "bottom": null,
            "display": null,
            "flex": null,
            "flex_flow": null,
            "grid_area": null,
            "grid_auto_columns": null,
            "grid_auto_flow": null,
            "grid_auto_rows": null,
            "grid_column": null,
            "grid_gap": null,
            "grid_row": null,
            "grid_template_areas": null,
            "grid_template_columns": null,
            "grid_template_rows": null,
            "height": null,
            "justify_content": null,
            "justify_items": null,
            "left": null,
            "margin": null,
            "max_height": null,
            "max_width": null,
            "min_height": null,
            "min_width": null,
            "object_fit": null,
            "object_position": null,
            "order": null,
            "overflow": null,
            "overflow_x": null,
            "overflow_y": null,
            "padding": null,
            "right": null,
            "top": null,
            "visibility": null,
            "width": null
          }
        },
        "5a4c92e4b3b644d4a47ba20ae282c1ae": {
          "model_module": "@jupyter-widgets/controls",
          "model_name": "DescriptionStyleModel",
          "model_module_version": "1.5.0",
          "state": {
            "_model_module": "@jupyter-widgets/controls",
            "_model_module_version": "1.5.0",
            "_model_name": "DescriptionStyleModel",
            "_view_count": null,
            "_view_module": "@jupyter-widgets/base",
            "_view_module_version": "1.2.0",
            "_view_name": "StyleView",
            "description_width": ""
          }
        },
        "a2a045421951430ebc57f44047ce87e4": {
          "model_module": "@jupyter-widgets/controls",
          "model_name": "HBoxModel",
          "model_module_version": "1.5.0",
          "state": {
            "_dom_classes": [],
            "_model_module": "@jupyter-widgets/controls",
            "_model_module_version": "1.5.0",
            "_model_name": "HBoxModel",
            "_view_count": null,
            "_view_module": "@jupyter-widgets/controls",
            "_view_module_version": "1.5.0",
            "_view_name": "HBoxView",
            "box_style": "",
            "children": [
              "IPY_MODEL_cbc03f6526d449069002c410565f94c7",
              "IPY_MODEL_67c4e93657c543a2925448c30008fd02",
              "IPY_MODEL_fae76282569d42db9be95f323b49d930"
            ],
            "layout": "IPY_MODEL_306a492a3c8a47ea9bacd9910978bea9"
          }
        },
        "cbc03f6526d449069002c410565f94c7": {
          "model_module": "@jupyter-widgets/controls",
          "model_name": "HTMLModel",
          "model_module_version": "1.5.0",
          "state": {
            "_dom_classes": [],
            "_model_module": "@jupyter-widgets/controls",
            "_model_module_version": "1.5.0",
            "_model_name": "HTMLModel",
            "_view_count": null,
            "_view_module": "@jupyter-widgets/controls",
            "_view_module_version": "1.5.0",
            "_view_name": "HTMLView",
            "description": "",
            "description_tooltip": null,
            "layout": "IPY_MODEL_c3f2f32f23bb474f8aab66dcf318da0b",
            "placeholder": "​",
            "style": "IPY_MODEL_6117904a079d438fbaf3ab4da16fe4a2",
            "value": "Downloading: 100%"
          }
        },
        "67c4e93657c543a2925448c30008fd02": {
          "model_module": "@jupyter-widgets/controls",
          "model_name": "FloatProgressModel",
          "model_module_version": "1.5.0",
          "state": {
            "_dom_classes": [],
            "_model_module": "@jupyter-widgets/controls",
            "_model_module_version": "1.5.0",
            "_model_name": "FloatProgressModel",
            "_view_count": null,
            "_view_module": "@jupyter-widgets/controls",
            "_view_module_version": "1.5.0",
            "_view_name": "ProgressView",
            "bar_style": "success",
            "description": "",
            "description_tooltip": null,
            "layout": "IPY_MODEL_76c2f214cc00486aad6cdefcdffcdaa0",
            "max": 665,
            "min": 0,
            "orientation": "horizontal",
            "style": "IPY_MODEL_5125f72fff9e41cb9ecb0fc108e589c9",
            "value": 665
          }
        },
        "fae76282569d42db9be95f323b49d930": {
          "model_module": "@jupyter-widgets/controls",
          "model_name": "HTMLModel",
          "model_module_version": "1.5.0",
          "state": {
            "_dom_classes": [],
            "_model_module": "@jupyter-widgets/controls",
            "_model_module_version": "1.5.0",
            "_model_name": "HTMLModel",
            "_view_count": null,
            "_view_module": "@jupyter-widgets/controls",
            "_view_module_version": "1.5.0",
            "_view_name": "HTMLView",
            "description": "",
            "description_tooltip": null,
            "layout": "IPY_MODEL_6ffa8f079c6442cbb1f04c45fa61930f",
            "placeholder": "​",
            "style": "IPY_MODEL_40f0381f1e41421db0950145689872a9",
            "value": " 665/665 [00:00&lt;00:00, 4.79kB/s]"
          }
        },
        "306a492a3c8a47ea9bacd9910978bea9": {
          "model_module": "@jupyter-widgets/base",
          "model_name": "LayoutModel",
          "model_module_version": "1.2.0",
          "state": {
            "_model_module": "@jupyter-widgets/base",
            "_model_module_version": "1.2.0",
            "_model_name": "LayoutModel",
            "_view_count": null,
            "_view_module": "@jupyter-widgets/base",
            "_view_module_version": "1.2.0",
            "_view_name": "LayoutView",
            "align_content": null,
            "align_items": null,
            "align_self": null,
            "border": null,
            "bottom": null,
            "display": null,
            "flex": null,
            "flex_flow": null,
            "grid_area": null,
            "grid_auto_columns": null,
            "grid_auto_flow": null,
            "grid_auto_rows": null,
            "grid_column": null,
            "grid_gap": null,
            "grid_row": null,
            "grid_template_areas": null,
            "grid_template_columns": null,
            "grid_template_rows": null,
            "height": null,
            "justify_content": null,
            "justify_items": null,
            "left": null,
            "margin": null,
            "max_height": null,
            "max_width": null,
            "min_height": null,
            "min_width": null,
            "object_fit": null,
            "object_position": null,
            "order": null,
            "overflow": null,
            "overflow_x": null,
            "overflow_y": null,
            "padding": null,
            "right": null,
            "top": null,
            "visibility": null,
            "width": null
          }
        },
        "c3f2f32f23bb474f8aab66dcf318da0b": {
          "model_module": "@jupyter-widgets/base",
          "model_name": "LayoutModel",
          "model_module_version": "1.2.0",
          "state": {
            "_model_module": "@jupyter-widgets/base",
            "_model_module_version": "1.2.0",
            "_model_name": "LayoutModel",
            "_view_count": null,
            "_view_module": "@jupyter-widgets/base",
            "_view_module_version": "1.2.0",
            "_view_name": "LayoutView",
            "align_content": null,
            "align_items": null,
            "align_self": null,
            "border": null,
            "bottom": null,
            "display": null,
            "flex": null,
            "flex_flow": null,
            "grid_area": null,
            "grid_auto_columns": null,
            "grid_auto_flow": null,
            "grid_auto_rows": null,
            "grid_column": null,
            "grid_gap": null,
            "grid_row": null,
            "grid_template_areas": null,
            "grid_template_columns": null,
            "grid_template_rows": null,
            "height": null,
            "justify_content": null,
            "justify_items": null,
            "left": null,
            "margin": null,
            "max_height": null,
            "max_width": null,
            "min_height": null,
            "min_width": null,
            "object_fit": null,
            "object_position": null,
            "order": null,
            "overflow": null,
            "overflow_x": null,
            "overflow_y": null,
            "padding": null,
            "right": null,
            "top": null,
            "visibility": null,
            "width": null
          }
        },
        "6117904a079d438fbaf3ab4da16fe4a2": {
          "model_module": "@jupyter-widgets/controls",
          "model_name": "DescriptionStyleModel",
          "model_module_version": "1.5.0",
          "state": {
            "_model_module": "@jupyter-widgets/controls",
            "_model_module_version": "1.5.0",
            "_model_name": "DescriptionStyleModel",
            "_view_count": null,
            "_view_module": "@jupyter-widgets/base",
            "_view_module_version": "1.2.0",
            "_view_name": "StyleView",
            "description_width": ""
          }
        },
        "76c2f214cc00486aad6cdefcdffcdaa0": {
          "model_module": "@jupyter-widgets/base",
          "model_name": "LayoutModel",
          "model_module_version": "1.2.0",
          "state": {
            "_model_module": "@jupyter-widgets/base",
            "_model_module_version": "1.2.0",
            "_model_name": "LayoutModel",
            "_view_count": null,
            "_view_module": "@jupyter-widgets/base",
            "_view_module_version": "1.2.0",
            "_view_name": "LayoutView",
            "align_content": null,
            "align_items": null,
            "align_self": null,
            "border": null,
            "bottom": null,
            "display": null,
            "flex": null,
            "flex_flow": null,
            "grid_area": null,
            "grid_auto_columns": null,
            "grid_auto_flow": null,
            "grid_auto_rows": null,
            "grid_column": null,
            "grid_gap": null,
            "grid_row": null,
            "grid_template_areas": null,
            "grid_template_columns": null,
            "grid_template_rows": null,
            "height": null,
            "justify_content": null,
            "justify_items": null,
            "left": null,
            "margin": null,
            "max_height": null,
            "max_width": null,
            "min_height": null,
            "min_width": null,
            "object_fit": null,
            "object_position": null,
            "order": null,
            "overflow": null,
            "overflow_x": null,
            "overflow_y": null,
            "padding": null,
            "right": null,
            "top": null,
            "visibility": null,
            "width": null
          }
        },
        "5125f72fff9e41cb9ecb0fc108e589c9": {
          "model_module": "@jupyter-widgets/controls",
          "model_name": "ProgressStyleModel",
          "model_module_version": "1.5.0",
          "state": {
            "_model_module": "@jupyter-widgets/controls",
            "_model_module_version": "1.5.0",
            "_model_name": "ProgressStyleModel",
            "_view_count": null,
            "_view_module": "@jupyter-widgets/base",
            "_view_module_version": "1.2.0",
            "_view_name": "StyleView",
            "bar_color": null,
            "description_width": ""
          }
        },
        "6ffa8f079c6442cbb1f04c45fa61930f": {
          "model_module": "@jupyter-widgets/base",
          "model_name": "LayoutModel",
          "model_module_version": "1.2.0",
          "state": {
            "_model_module": "@jupyter-widgets/base",
            "_model_module_version": "1.2.0",
            "_model_name": "LayoutModel",
            "_view_count": null,
            "_view_module": "@jupyter-widgets/base",
            "_view_module_version": "1.2.0",
            "_view_name": "LayoutView",
            "align_content": null,
            "align_items": null,
            "align_self": null,
            "border": null,
            "bottom": null,
            "display": null,
            "flex": null,
            "flex_flow": null,
            "grid_area": null,
            "grid_auto_columns": null,
            "grid_auto_flow": null,
            "grid_auto_rows": null,
            "grid_column": null,
            "grid_gap": null,
            "grid_row": null,
            "grid_template_areas": null,
            "grid_template_columns": null,
            "grid_template_rows": null,
            "height": null,
            "justify_content": null,
            "justify_items": null,
            "left": null,
            "margin": null,
            "max_height": null,
            "max_width": null,
            "min_height": null,
            "min_width": null,
            "object_fit": null,
            "object_position": null,
            "order": null,
            "overflow": null,
            "overflow_x": null,
            "overflow_y": null,
            "padding": null,
            "right": null,
            "top": null,
            "visibility": null,
            "width": null
          }
        },
        "40f0381f1e41421db0950145689872a9": {
          "model_module": "@jupyter-widgets/controls",
          "model_name": "DescriptionStyleModel",
          "model_module_version": "1.5.0",
          "state": {
            "_model_module": "@jupyter-widgets/controls",
            "_model_module_version": "1.5.0",
            "_model_name": "DescriptionStyleModel",
            "_view_count": null,
            "_view_module": "@jupyter-widgets/base",
            "_view_module_version": "1.2.0",
            "_view_name": "StyleView",
            "description_width": ""
          }
        },
        "8a8f6f15d8754a82aee41b58e9591d8c": {
          "model_module": "@jupyter-widgets/controls",
          "model_name": "HBoxModel",
          "model_module_version": "1.5.0",
          "state": {
            "_dom_classes": [],
            "_model_module": "@jupyter-widgets/controls",
            "_model_module_version": "1.5.0",
            "_model_name": "HBoxModel",
            "_view_count": null,
            "_view_module": "@jupyter-widgets/controls",
            "_view_module_version": "1.5.0",
            "_view_name": "HBoxView",
            "box_style": "",
            "children": [
              "IPY_MODEL_4d54e0ad3264452ba0a1eaa3f9cac29f",
              "IPY_MODEL_c1f0bb443ba549b288b1d6e8de38792e",
              "IPY_MODEL_991821ed1e0846c3b16b1a0306e57e8b"
            ],
            "layout": "IPY_MODEL_d67785040cf84061aa58ae283decae08"
          }
        },
        "4d54e0ad3264452ba0a1eaa3f9cac29f": {
          "model_module": "@jupyter-widgets/controls",
          "model_name": "HTMLModel",
          "model_module_version": "1.5.0",
          "state": {
            "_dom_classes": [],
            "_model_module": "@jupyter-widgets/controls",
            "_model_module_version": "1.5.0",
            "_model_name": "HTMLModel",
            "_view_count": null,
            "_view_module": "@jupyter-widgets/controls",
            "_view_module_version": "1.5.0",
            "_view_name": "HTMLView",
            "description": "",
            "description_tooltip": null,
            "layout": "IPY_MODEL_775e002a79d841e5814ebad36c28dc8e",
            "placeholder": "​",
            "style": "IPY_MODEL_6ce31c1666224039bdf7f4c3398bfca3",
            "value": "Downloading: 100%"
          }
        },
        "c1f0bb443ba549b288b1d6e8de38792e": {
          "model_module": "@jupyter-widgets/controls",
          "model_name": "FloatProgressModel",
          "model_module_version": "1.5.0",
          "state": {
            "_dom_classes": [],
            "_model_module": "@jupyter-widgets/controls",
            "_model_module_version": "1.5.0",
            "_model_name": "FloatProgressModel",
            "_view_count": null,
            "_view_module": "@jupyter-widgets/controls",
            "_view_module_version": "1.5.0",
            "_view_name": "ProgressView",
            "bar_style": "success",
            "description": "",
            "description_tooltip": null,
            "layout": "IPY_MODEL_afd17d38768540079b15aee78e31f6ef",
            "max": 497933648,
            "min": 0,
            "orientation": "horizontal",
            "style": "IPY_MODEL_6248b33ac90c48a486ec591b970f3ad4",
            "value": 497933648
          }
        },
        "991821ed1e0846c3b16b1a0306e57e8b": {
          "model_module": "@jupyter-widgets/controls",
          "model_name": "HTMLModel",
          "model_module_version": "1.5.0",
          "state": {
            "_dom_classes": [],
            "_model_module": "@jupyter-widgets/controls",
            "_model_module_version": "1.5.0",
            "_model_name": "HTMLModel",
            "_view_count": null,
            "_view_module": "@jupyter-widgets/controls",
            "_view_module_version": "1.5.0",
            "_view_name": "HTMLView",
            "description": "",
            "description_tooltip": null,
            "layout": "IPY_MODEL_6721812efc8d497eb6e4805fd196f5eb",
            "placeholder": "​",
            "style": "IPY_MODEL_411fe9038aec4b93bed67fb493a32618",
            "value": " 475M/475M [00:13&lt;00:00, 39.8MB/s]"
          }
        },
        "d67785040cf84061aa58ae283decae08": {
          "model_module": "@jupyter-widgets/base",
          "model_name": "LayoutModel",
          "model_module_version": "1.2.0",
          "state": {
            "_model_module": "@jupyter-widgets/base",
            "_model_module_version": "1.2.0",
            "_model_name": "LayoutModel",
            "_view_count": null,
            "_view_module": "@jupyter-widgets/base",
            "_view_module_version": "1.2.0",
            "_view_name": "LayoutView",
            "align_content": null,
            "align_items": null,
            "align_self": null,
            "border": null,
            "bottom": null,
            "display": null,
            "flex": null,
            "flex_flow": null,
            "grid_area": null,
            "grid_auto_columns": null,
            "grid_auto_flow": null,
            "grid_auto_rows": null,
            "grid_column": null,
            "grid_gap": null,
            "grid_row": null,
            "grid_template_areas": null,
            "grid_template_columns": null,
            "grid_template_rows": null,
            "height": null,
            "justify_content": null,
            "justify_items": null,
            "left": null,
            "margin": null,
            "max_height": null,
            "max_width": null,
            "min_height": null,
            "min_width": null,
            "object_fit": null,
            "object_position": null,
            "order": null,
            "overflow": null,
            "overflow_x": null,
            "overflow_y": null,
            "padding": null,
            "right": null,
            "top": null,
            "visibility": null,
            "width": null
          }
        },
        "775e002a79d841e5814ebad36c28dc8e": {
          "model_module": "@jupyter-widgets/base",
          "model_name": "LayoutModel",
          "model_module_version": "1.2.0",
          "state": {
            "_model_module": "@jupyter-widgets/base",
            "_model_module_version": "1.2.0",
            "_model_name": "LayoutModel",
            "_view_count": null,
            "_view_module": "@jupyter-widgets/base",
            "_view_module_version": "1.2.0",
            "_view_name": "LayoutView",
            "align_content": null,
            "align_items": null,
            "align_self": null,
            "border": null,
            "bottom": null,
            "display": null,
            "flex": null,
            "flex_flow": null,
            "grid_area": null,
            "grid_auto_columns": null,
            "grid_auto_flow": null,
            "grid_auto_rows": null,
            "grid_column": null,
            "grid_gap": null,
            "grid_row": null,
            "grid_template_areas": null,
            "grid_template_columns": null,
            "grid_template_rows": null,
            "height": null,
            "justify_content": null,
            "justify_items": null,
            "left": null,
            "margin": null,
            "max_height": null,
            "max_width": null,
            "min_height": null,
            "min_width": null,
            "object_fit": null,
            "object_position": null,
            "order": null,
            "overflow": null,
            "overflow_x": null,
            "overflow_y": null,
            "padding": null,
            "right": null,
            "top": null,
            "visibility": null,
            "width": null
          }
        },
        "6ce31c1666224039bdf7f4c3398bfca3": {
          "model_module": "@jupyter-widgets/controls",
          "model_name": "DescriptionStyleModel",
          "model_module_version": "1.5.0",
          "state": {
            "_model_module": "@jupyter-widgets/controls",
            "_model_module_version": "1.5.0",
            "_model_name": "DescriptionStyleModel",
            "_view_count": null,
            "_view_module": "@jupyter-widgets/base",
            "_view_module_version": "1.2.0",
            "_view_name": "StyleView",
            "description_width": ""
          }
        },
        "afd17d38768540079b15aee78e31f6ef": {
          "model_module": "@jupyter-widgets/base",
          "model_name": "LayoutModel",
          "model_module_version": "1.2.0",
          "state": {
            "_model_module": "@jupyter-widgets/base",
            "_model_module_version": "1.2.0",
            "_model_name": "LayoutModel",
            "_view_count": null,
            "_view_module": "@jupyter-widgets/base",
            "_view_module_version": "1.2.0",
            "_view_name": "LayoutView",
            "align_content": null,
            "align_items": null,
            "align_self": null,
            "border": null,
            "bottom": null,
            "display": null,
            "flex": null,
            "flex_flow": null,
            "grid_area": null,
            "grid_auto_columns": null,
            "grid_auto_flow": null,
            "grid_auto_rows": null,
            "grid_column": null,
            "grid_gap": null,
            "grid_row": null,
            "grid_template_areas": null,
            "grid_template_columns": null,
            "grid_template_rows": null,
            "height": null,
            "justify_content": null,
            "justify_items": null,
            "left": null,
            "margin": null,
            "max_height": null,
            "max_width": null,
            "min_height": null,
            "min_width": null,
            "object_fit": null,
            "object_position": null,
            "order": null,
            "overflow": null,
            "overflow_x": null,
            "overflow_y": null,
            "padding": null,
            "right": null,
            "top": null,
            "visibility": null,
            "width": null
          }
        },
        "6248b33ac90c48a486ec591b970f3ad4": {
          "model_module": "@jupyter-widgets/controls",
          "model_name": "ProgressStyleModel",
          "model_module_version": "1.5.0",
          "state": {
            "_model_module": "@jupyter-widgets/controls",
            "_model_module_version": "1.5.0",
            "_model_name": "ProgressStyleModel",
            "_view_count": null,
            "_view_module": "@jupyter-widgets/base",
            "_view_module_version": "1.2.0",
            "_view_name": "StyleView",
            "bar_color": null,
            "description_width": ""
          }
        },
        "6721812efc8d497eb6e4805fd196f5eb": {
          "model_module": "@jupyter-widgets/base",
          "model_name": "LayoutModel",
          "model_module_version": "1.2.0",
          "state": {
            "_model_module": "@jupyter-widgets/base",
            "_model_module_version": "1.2.0",
            "_model_name": "LayoutModel",
            "_view_count": null,
            "_view_module": "@jupyter-widgets/base",
            "_view_module_version": "1.2.0",
            "_view_name": "LayoutView",
            "align_content": null,
            "align_items": null,
            "align_self": null,
            "border": null,
            "bottom": null,
            "display": null,
            "flex": null,
            "flex_flow": null,
            "grid_area": null,
            "grid_auto_columns": null,
            "grid_auto_flow": null,
            "grid_auto_rows": null,
            "grid_column": null,
            "grid_gap": null,
            "grid_row": null,
            "grid_template_areas": null,
            "grid_template_columns": null,
            "grid_template_rows": null,
            "height": null,
            "justify_content": null,
            "justify_items": null,
            "left": null,
            "margin": null,
            "max_height": null,
            "max_width": null,
            "min_height": null,
            "min_width": null,
            "object_fit": null,
            "object_position": null,
            "order": null,
            "overflow": null,
            "overflow_x": null,
            "overflow_y": null,
            "padding": null,
            "right": null,
            "top": null,
            "visibility": null,
            "width": null
          }
        },
        "411fe9038aec4b93bed67fb493a32618": {
          "model_module": "@jupyter-widgets/controls",
          "model_name": "DescriptionStyleModel",
          "model_module_version": "1.5.0",
          "state": {
            "_model_module": "@jupyter-widgets/controls",
            "_model_module_version": "1.5.0",
            "_model_name": "DescriptionStyleModel",
            "_view_count": null,
            "_view_module": "@jupyter-widgets/base",
            "_view_module_version": "1.2.0",
            "_view_name": "StyleView",
            "description_width": ""
          }
        }
      }
    }
  },
  "cells": [
    {
      "cell_type": "markdown",
      "metadata": {
        "id": "view-in-github",
        "colab_type": "text"
      },
      "source": [
        "<a href=\"https://colab.research.google.com/github/almarengo/gpt2-text-classification/blob/main/GPT2_Transfer_Learning_final.ipynb\" target=\"_parent\"><img src=\"https://colab.research.google.com/assets/colab-badge.svg\" alt=\"Open In Colab\"/></a>"
      ]
    },
    {
      "cell_type": "markdown",
      "source": [
        "# Text Classification using GPT2 and Tensorflow\n",
        "\n",
        "In this notebook we will classify the tweets (sentiment analysis) like we did in this other project [COVID Tweets Analysis](https://github.com/almarengo/COVID_Tweet_Analysis).\n",
        "\n",
        "In this project, Notebook 3 we used logistic regression and random forest. The dataset can be found in the same repository.\n",
        "\n",
        "We will see if fine-tuning a pre-trained model (GPT2) will give us better accurancies.\n",
        "\n",
        "Let's start dowloading Hugging Face's Transformers."
      ],
      "metadata": {
        "id": "N3gS3tcdmmxZ"
      }
    },
    {
      "cell_type": "code",
      "source": [
        "!pip install transformers"
      ],
      "metadata": {
        "colab": {
          "base_uri": "https://localhost:8080/"
        },
        "id": "ZfT6t5ITqABn",
        "outputId": "342cdf85-7766-49fa-b6c4-5a5113cd9fbc"
      },
      "execution_count": null,
      "outputs": [
        {
          "output_type": "stream",
          "name": "stdout",
          "text": [
            "Collecting transformers\n",
            "  Downloading transformers-4.18.0-py3-none-any.whl (4.0 MB)\n",
            "\u001b[K     |████████████████████████████████| 4.0 MB 5.4 MB/s \n",
            "\u001b[?25hRequirement already satisfied: filelock in /usr/local/lib/python3.7/dist-packages (from transformers) (3.6.0)\n",
            "Requirement already satisfied: tqdm>=4.27 in /usr/local/lib/python3.7/dist-packages (from transformers) (4.64.0)\n",
            "Collecting tokenizers!=0.11.3,<0.13,>=0.11.1\n",
            "  Downloading tokenizers-0.12.1-cp37-cp37m-manylinux_2_12_x86_64.manylinux2010_x86_64.whl (6.6 MB)\n",
            "\u001b[K     |████████████████████████████████| 6.6 MB 34.9 MB/s \n",
            "\u001b[?25hCollecting huggingface-hub<1.0,>=0.1.0\n",
            "  Downloading huggingface_hub-0.5.1-py3-none-any.whl (77 kB)\n",
            "\u001b[K     |████████████████████████████████| 77 kB 3.4 MB/s \n",
            "\u001b[?25hCollecting pyyaml>=5.1\n",
            "  Downloading PyYAML-6.0-cp37-cp37m-manylinux_2_5_x86_64.manylinux1_x86_64.manylinux_2_12_x86_64.manylinux2010_x86_64.whl (596 kB)\n",
            "\u001b[K     |████████████████████████████████| 596 kB 20.2 MB/s \n",
            "\u001b[?25hRequirement already satisfied: numpy>=1.17 in /usr/local/lib/python3.7/dist-packages (from transformers) (1.21.6)\n",
            "Requirement already satisfied: requests in /usr/local/lib/python3.7/dist-packages (from transformers) (2.23.0)\n",
            "Requirement already satisfied: importlib-metadata in /usr/local/lib/python3.7/dist-packages (from transformers) (4.11.3)\n",
            "Collecting sacremoses\n",
            "  Downloading sacremoses-0.0.49-py3-none-any.whl (895 kB)\n",
            "\u001b[K     |████████████████████████████████| 895 kB 49.0 MB/s \n",
            "\u001b[?25hRequirement already satisfied: packaging>=20.0 in /usr/local/lib/python3.7/dist-packages (from transformers) (21.3)\n",
            "Requirement already satisfied: regex!=2019.12.17 in /usr/local/lib/python3.7/dist-packages (from transformers) (2019.12.20)\n",
            "Requirement already satisfied: typing-extensions>=3.7.4.3 in /usr/local/lib/python3.7/dist-packages (from huggingface-hub<1.0,>=0.1.0->transformers) (4.1.1)\n",
            "Requirement already satisfied: pyparsing!=3.0.5,>=2.0.2 in /usr/local/lib/python3.7/dist-packages (from packaging>=20.0->transformers) (3.0.8)\n",
            "Requirement already satisfied: zipp>=0.5 in /usr/local/lib/python3.7/dist-packages (from importlib-metadata->transformers) (3.8.0)\n",
            "Requirement already satisfied: certifi>=2017.4.17 in /usr/local/lib/python3.7/dist-packages (from requests->transformers) (2021.10.8)\n",
            "Requirement already satisfied: urllib3!=1.25.0,!=1.25.1,<1.26,>=1.21.1 in /usr/local/lib/python3.7/dist-packages (from requests->transformers) (1.24.3)\n",
            "Requirement already satisfied: idna<3,>=2.5 in /usr/local/lib/python3.7/dist-packages (from requests->transformers) (2.10)\n",
            "Requirement already satisfied: chardet<4,>=3.0.2 in /usr/local/lib/python3.7/dist-packages (from requests->transformers) (3.0.4)\n",
            "Requirement already satisfied: joblib in /usr/local/lib/python3.7/dist-packages (from sacremoses->transformers) (1.1.0)\n",
            "Requirement already satisfied: six in /usr/local/lib/python3.7/dist-packages (from sacremoses->transformers) (1.15.0)\n",
            "Requirement already satisfied: click in /usr/local/lib/python3.7/dist-packages (from sacremoses->transformers) (7.1.2)\n",
            "Installing collected packages: pyyaml, tokenizers, sacremoses, huggingface-hub, transformers\n",
            "  Attempting uninstall: pyyaml\n",
            "    Found existing installation: PyYAML 3.13\n",
            "    Uninstalling PyYAML-3.13:\n",
            "      Successfully uninstalled PyYAML-3.13\n",
            "Successfully installed huggingface-hub-0.5.1 pyyaml-6.0 sacremoses-0.0.49 tokenizers-0.12.1 transformers-4.18.0\n"
          ]
        }
      ]
    },
    {
      "cell_type": "markdown",
      "source": [
        "Let's import the packages. We will use Tensorflow for this project."
      ],
      "metadata": {
        "id": "-3PRayquobOH"
      }
    },
    {
      "cell_type": "code",
      "source": [
        "import math\n",
        "import tensorflow as tf\n",
        "from transformers import GPT2Tokenizer, TFGPT2Model"
      ],
      "metadata": {
        "id": "cgOm-wxynPV-"
      },
      "execution_count": null,
      "outputs": []
    },
    {
      "cell_type": "code",
      "source": [
        "from google.colab import drive\n",
        "drive.mount('/content/gdrive')"
      ],
      "metadata": {
        "id": "HtBAEpDUyYqK",
        "colab": {
          "base_uri": "https://localhost:8080/"
        },
        "outputId": "6ec5754b-05fc-44e0-da5f-20bcb1b1655f"
      },
      "execution_count": null,
      "outputs": [
        {
          "output_type": "stream",
          "name": "stdout",
          "text": [
            "Mounted at /content/gdrive\n"
          ]
        }
      ]
    },
    {
      "cell_type": "code",
      "source": [
        "import pandas as pd"
      ],
      "metadata": {
        "id": "xEmEfk8IqVOa"
      },
      "execution_count": null,
      "outputs": []
    },
    {
      "cell_type": "markdown",
      "source": [
        "We'll read the tweet file\n"
      ],
      "metadata": {
        "id": "bL2AVkFbsV8v"
      }
    },
    {
      "cell_type": "code",
      "source": [
        "df = pd.read_csv('/content/gdrive/My Drive/Data Science/data/tweets_processed.csv')"
      ],
      "metadata": {
        "id": "GluhmiLpqqHf"
      },
      "execution_count": null,
      "outputs": []
    },
    {
      "cell_type": "code",
      "source": [
        "from sklearn.model_selection import train_test_split"
      ],
      "metadata": {
        "id": "7wu9VN_vq5K8"
      },
      "execution_count": null,
      "outputs": []
    },
    {
      "cell_type": "code",
      "source": [
        "df.columns"
      ],
      "metadata": {
        "colab": {
          "base_uri": "https://localhost:8080/"
        },
        "id": "64QjTenEsEMZ",
        "outputId": "3162a368-8e1c-4f25-df33-121688bdcbfe"
      },
      "execution_count": null,
      "outputs": [
        {
          "output_type": "execute_result",
          "data": {
            "text/plain": [
              "Index(['lemmatized_tweets', 'VADER_sentiment'], dtype='object')"
            ]
          },
          "metadata": {},
          "execution_count": 7
        }
      ]
    },
    {
      "cell_type": "markdown",
      "source": [
        "Split it into train and test."
      ],
      "metadata": {
        "id": "BQPFsQmJshU9"
      }
    },
    {
      "cell_type": "code",
      "source": [
        "X = df['lemmatized_tweets']\n",
        "y = df['VADER_sentiment']\n",
        "\n",
        "X_train, X_test, y_train, y_test = train_test_split(X, y, stratify=y)"
      ],
      "metadata": {
        "id": "3xHatfzwuAHW"
      },
      "execution_count": null,
      "outputs": []
    },
    {
      "cell_type": "code",
      "source": [
        "X_train"
      ],
      "metadata": {
        "colab": {
          "base_uri": "https://localhost:8080/"
        },
        "id": "eK5zpOjKumhL",
        "outputId": "058f4535-834d-4c7c-d64e-bba08f648563"
      },
      "execution_count": null,
      "outputs": [
        {
          "output_type": "execute_result",
          "data": {
            "text/plain": [
              "1033      africa cdc will ask all covid vaccine donati...\n",
              "444     the overall risk of develop mycocarditis after...\n",
              "1288    collab team from amp fund by covid vaccine tea...\n",
              "1170      over of india 's adult population be now ful...\n",
              "1433    how important can dendritic cell therapy be fo...\n",
              "                              ...                        \n",
              "475     the vaccine bus will be at webheath palmerston...\n",
              "1101    do we all have to get shot regularly now the a...\n",
              "1453    I talk with yet another friend who lose a pare...\n",
              "843     what these blowhard fail to realize be that th...\n",
              "957     covid in pregnancy in scotland study reveal su...\n",
              "Name: lemmatized_tweets, Length: 1569, dtype: object"
            ]
          },
          "metadata": {},
          "execution_count": 9
        }
      ]
    },
    {
      "cell_type": "markdown",
      "source": [
        "We will assign the max length of the sequence as the average length of all the tweets + 2 (arbitrary)"
      ],
      "metadata": {
        "id": "sWIIsmUXsnxO"
      }
    },
    {
      "cell_type": "code",
      "source": [
        "MAX_LENGTH = math.ceil((X_train.apply(lambda x: len(str(x).split())).mean()))+2\n",
        "MAX_LENGTH"
      ],
      "metadata": {
        "id": "8HC4nywLEa2a",
        "colab": {
          "base_uri": "https://localhost:8080/"
        },
        "outputId": "982c0b5a-dc87-4eec-b226-d62e8b0199ec"
      },
      "execution_count": null,
      "outputs": [
        {
          "output_type": "execute_result",
          "data": {
            "text/plain": [
              "27"
            ]
          },
          "metadata": {},
          "execution_count": 10
        }
      ]
    },
    {
      "cell_type": "markdown",
      "source": [
        "Let's initialize the tokenizer and add a PAD token ane and EOS (end of text) token"
      ],
      "metadata": {
        "id": "HBT9TCOEtDek"
      }
    },
    {
      "cell_type": "code",
      "source": [
        "PAD_TOKEN = \"<|pad|>\"\n",
        "EOS_TOKEN = \"<|endoftext|>\"\n",
        "\n",
        "# this will download and initialize the pre trained tokenizer\n",
        "tokenizer = GPT2Tokenizer.from_pretrained(\"gpt2\",\n",
        "    pad_token=PAD_TOKEN,\n",
        "    eos_token=EOS_TOKEN,\n",
        "    max_length=MAX_LENGTH,\n",
        "    is_split_into_words=True)"
      ],
      "metadata": {
        "colab": {
          "base_uri": "https://localhost:8080/",
          "height": 130,
          "referenced_widgets": [
            "c9912049a982406d932e3adc9fe9d61c",
            "7d5b54e17c354b1f800f81d4a5428ff9",
            "21566811379146c8b55caf7b0a9c5b27",
            "ba51d2f688d84cf19773787a27583f4c",
            "e6bc18dd228142a3864176937738086a",
            "9bdd99caf0ad4f038e731883dce2146e",
            "bce97fa787184732a997abc82a931e05",
            "7dc0ed7811c846b2bf71e8b4e938a0ae",
            "4ba8ac9b9cc14acca878c21c0e7072d5",
            "e1f6d37f989543ce87e12a1f73446bba",
            "af94ed620f9546a191a5f61685e15cf5",
            "dab83b336aa246e8b0e9538eb0db0a34",
            "2395423f62884341b2abca5418552ecf",
            "5aef99c2bf354ed7bc518dd346eea6f8",
            "5221c7c45d0046b99285d0dff6a801b0",
            "32bd62bd982a42ad8910bfea5142b583",
            "6e9eb2f64a504f908d3e6928e4303353",
            "ea6fb84bd978400c89d313411bdd23db",
            "34b011e3fc354d7eb5073d3700ba917a",
            "62b30326d739469f80f3f403ae82b732",
            "dbc56bed04ce46b99494f2fa3ea6effc",
            "5a4c92e4b3b644d4a47ba20ae282c1ae",
            "a2a045421951430ebc57f44047ce87e4",
            "cbc03f6526d449069002c410565f94c7",
            "67c4e93657c543a2925448c30008fd02",
            "fae76282569d42db9be95f323b49d930",
            "306a492a3c8a47ea9bacd9910978bea9",
            "c3f2f32f23bb474f8aab66dcf318da0b",
            "6117904a079d438fbaf3ab4da16fe4a2",
            "76c2f214cc00486aad6cdefcdffcdaa0",
            "5125f72fff9e41cb9ecb0fc108e589c9",
            "6ffa8f079c6442cbb1f04c45fa61930f",
            "40f0381f1e41421db0950145689872a9"
          ]
        },
        "id": "b46ZXowVzT2O",
        "outputId": "b5557cb5-582a-48e5-fb03-5fc809c4a4ad"
      },
      "execution_count": null,
      "outputs": [
        {
          "output_type": "display_data",
          "data": {
            "text/plain": [
              "Downloading:   0%|          | 0.00/0.99M [00:00<?, ?B/s]"
            ],
            "application/vnd.jupyter.widget-view+json": {
              "version_major": 2,
              "version_minor": 0,
              "model_id": "c9912049a982406d932e3adc9fe9d61c"
            }
          },
          "metadata": {}
        },
        {
          "output_type": "display_data",
          "data": {
            "text/plain": [
              "Downloading:   0%|          | 0.00/446k [00:00<?, ?B/s]"
            ],
            "application/vnd.jupyter.widget-view+json": {
              "version_major": 2,
              "version_minor": 0,
              "model_id": "dab83b336aa246e8b0e9538eb0db0a34"
            }
          },
          "metadata": {}
        },
        {
          "output_type": "display_data",
          "data": {
            "text/plain": [
              "Downloading:   0%|          | 0.00/665 [00:00<?, ?B/s]"
            ],
            "application/vnd.jupyter.widget-view+json": {
              "version_major": 2,
              "version_minor": 0,
              "model_id": "a2a045421951430ebc57f44047ce87e4"
            }
          },
          "metadata": {}
        },
        {
          "output_type": "stream",
          "name": "stderr",
          "text": [
            "Special tokens have been added in the vocabulary, make sure the associated word embeddings are fine-tuned or trained.\n"
          ]
        }
      ]
    },
    {
      "cell_type": "markdown",
      "source": [
        "We add the EOS token at the end of each tweet"
      ],
      "metadata": {
        "id": "xjme_839tWG-"
      }
    },
    {
      "cell_type": "code",
      "source": [
        "X_train = [str(ex) + EOS_TOKEN for ex in X_train]\n",
        "X_test = [str(ex) + EOS_TOKEN for ex in X_test]"
      ],
      "metadata": {
        "id": "Pqk2q61ZinYR"
      },
      "execution_count": null,
      "outputs": []
    },
    {
      "cell_type": "markdown",
      "source": [
        "We pass the tweets through the tokenizer, padding them to the max_length. This is a list so we need to stack them to create a tensor input (using tf.convert_to_tensor)"
      ],
      "metadata": {
        "id": "LDHLDYV9tbKa"
      }
    },
    {
      "cell_type": "code",
      "source": [
        "X_train_ = [tokenizer(str(x), return_tensors='tf', max_length=MAX_LENGTH, truncation=True, pad_to_max_length=True, add_special_tokens=True)['input_ids'] for x in X_train]\n",
        "X_test_ = [tokenizer(str(x), return_tensors='tf', max_length=MAX_LENGTH, truncation=True, pad_to_max_length=True, add_special_tokens=True)['input_ids'] for x in X_test]\n",
        "\n",
        "X_train_in = tf.squeeze(tf.convert_to_tensor(X_train_), axis=1)\n",
        "X_test_in = tf.squeeze(tf.convert_to_tensor(X_test_), axis=1)"
      ],
      "metadata": {
        "id": "NYQY3XZ0uU_o",
        "colab": {
          "base_uri": "https://localhost:8080/"
        },
        "outputId": "60afae50-9787-4fc8-8e77-06ee81431217"
      },
      "execution_count": null,
      "outputs": [
        {
          "output_type": "stream",
          "name": "stderr",
          "text": [
            "/usr/local/lib/python3.7/dist-packages/transformers/tokenization_utils_base.py:2269: FutureWarning: The `pad_to_max_length` argument is deprecated and will be removed in a future version, use `padding=True` or `padding='longest'` to pad to the longest sequence in the batch, or use `padding='max_length'` to pad to a max length. In this case, you can give a specific length with `max_length` (e.g. `max_length=45`) or leave max_length to None to pad to the maximal input size of the model (e.g. 512 for Bert).\n",
            "  FutureWarning,\n"
          ]
        }
      ]
    },
    {
      "cell_type": "code",
      "source": [
        "X_train_in[0]"
      ],
      "metadata": {
        "colab": {
          "base_uri": "https://localhost:8080/"
        },
        "id": "gHyZbbcWuuGZ",
        "outputId": "68bc1351-96ae-4419-bc94-830c5dd4c94b"
      },
      "execution_count": null,
      "outputs": [
        {
          "output_type": "execute_result",
          "data": {
            "text/plain": [
              "<tf.Tensor: shape=(27,), dtype=int32, numpy=\n",
              "array([  220,  6580, 30997,   269, 17896,   481,  1265,   477, 39849,\n",
              "         312, 12319, 13784,   307, 14985,  1566,   374,    67,   393,\n",
              "         294,  3860,   286,   428,   614,   275,   269,  4165,  4427],\n",
              "      dtype=int32)>"
            ]
          },
          "metadata": {},
          "execution_count": 14
        }
      ]
    },
    {
      "cell_type": "markdown",
      "source": [
        "We will also get the mask from the tokenizer (1 is token, 0 is pad token) the same we did for the inputs."
      ],
      "metadata": {
        "id": "KpIVjp4Tt55r"
      }
    },
    {
      "cell_type": "code",
      "source": [
        "X_train_mask_ = [tokenizer(str(x), return_tensors='tf', max_length=MAX_LENGTH, truncation=True, pad_to_max_length=True, add_special_tokens=True)[\"attention_mask\"] for x in X_train]\n",
        "X_test_mask_ = [tokenizer(str(x), return_tensors='tf', max_length=MAX_LENGTH, truncation=True, pad_to_max_length=True, add_special_tokens=True)[\"attention_mask\"] for x in X_test]\n",
        "\n",
        "X_train_mask = tf.squeeze(tf.convert_to_tensor(X_train_mask_), axis=1)\n",
        "X_test_mask = tf.squeeze(tf.convert_to_tensor(X_test_mask_), axis=1)"
      ],
      "metadata": {
        "colab": {
          "base_uri": "https://localhost:8080/"
        },
        "id": "edYk0Rdk0IPA",
        "outputId": "5cf9af78-bf2f-4297-b845-5615ec51ee37"
      },
      "execution_count": null,
      "outputs": [
        {
          "output_type": "stream",
          "name": "stderr",
          "text": [
            "/usr/local/lib/python3.7/dist-packages/transformers/tokenization_utils_base.py:2269: FutureWarning: The `pad_to_max_length` argument is deprecated and will be removed in a future version, use `padding=True` or `padding='longest'` to pad to the longest sequence in the batch, or use `padding='max_length'` to pad to a max length. In this case, you can give a specific length with `max_length` (e.g. `max_length=45`) or leave max_length to None to pad to the maximal input size of the model (e.g. 512 for Bert).\n",
            "  FutureWarning,\n"
          ]
        }
      ]
    },
    {
      "cell_type": "markdown",
      "source": [
        "We are now ready to pass the inputs through the model.\n",
        "Next we need to initilize GPT2 for TF and set it in training mode."
      ],
      "metadata": {
        "id": "bOx8Nr1iuK0D"
      }
    },
    {
      "cell_type": "code",
      "source": [
        "model = TFGPT2Model.from_pretrained(\"gpt2\", use_cache=False,\n",
        "        pad_token_id=tokenizer.pad_token_id,\n",
        "        eos_token_id=tokenizer.eos_token_id)\n",
        "model.training = True"
      ],
      "metadata": {
        "colab": {
          "base_uri": "https://localhost:8080/",
          "height": 118,
          "referenced_widgets": [
            "8a8f6f15d8754a82aee41b58e9591d8c",
            "4d54e0ad3264452ba0a1eaa3f9cac29f",
            "c1f0bb443ba549b288b1d6e8de38792e",
            "991821ed1e0846c3b16b1a0306e57e8b",
            "d67785040cf84061aa58ae283decae08",
            "775e002a79d841e5814ebad36c28dc8e",
            "6ce31c1666224039bdf7f4c3398bfca3",
            "afd17d38768540079b15aee78e31f6ef",
            "6248b33ac90c48a486ec591b970f3ad4",
            "6721812efc8d497eb6e4805fd196f5eb",
            "411fe9038aec4b93bed67fb493a32618"
          ]
        },
        "id": "kD4ws3zm5Zc8",
        "outputId": "aca0a09b-51c8-43e2-d040-70d1806bf221"
      },
      "execution_count": null,
      "outputs": [
        {
          "output_type": "display_data",
          "data": {
            "text/plain": [
              "Downloading:   0%|          | 0.00/475M [00:00<?, ?B/s]"
            ],
            "application/vnd.jupyter.widget-view+json": {
              "version_major": 2,
              "version_minor": 0,
              "model_id": "8a8f6f15d8754a82aee41b58e9591d8c"
            }
          },
          "metadata": {}
        },
        {
          "output_type": "stream",
          "name": "stderr",
          "text": [
            "All model checkpoint layers were used when initializing TFGPT2Model.\n",
            "\n",
            "All the layers of TFGPT2Model were initialized from the model checkpoint at gpt2.\n",
            "If your task is similar to the task the model of the checkpoint was trained on, you can already use TFGPT2Model for predictions without further training.\n"
          ]
        }
      ]
    },
    {
      "cell_type": "code",
      "source": [
        "model.resize_token_embeddings(len(tokenizer))"
      ],
      "metadata": {
        "colab": {
          "base_uri": "https://localhost:8080/"
        },
        "id": "nKkgOJV05X94",
        "outputId": "f9f81133-53cb-4762-8136-58794d0338fa"
      },
      "execution_count": null,
      "outputs": [
        {
          "output_type": "execute_result",
          "data": {
            "text/plain": [
              "<transformers.modeling_tf_utils.TFSharedEmbeddings at 0x7f817af2b810>"
            ]
          },
          "metadata": {},
          "execution_count": 17
        }
      ]
    },
    {
      "cell_type": "markdown",
      "source": [
        "Set the GPT2 pre-trained layers as non trainable"
      ],
      "metadata": {
        "id": "K7z-q10mvA0d"
      }
    },
    {
      "cell_type": "code",
      "source": [
        "for layer in model.layers:\n",
        "    layer.trainable = False"
      ],
      "metadata": {
        "id": "-O3PxYSNHyve"
      },
      "execution_count": null,
      "outputs": []
    },
    {
      "cell_type": "code",
      "source": [
        "model.summary()"
      ],
      "metadata": {
        "colab": {
          "base_uri": "https://localhost:8080/"
        },
        "id": "Km2IJikE2sTm",
        "outputId": "35e18a47-8ad8-4e01-9e07-2809bd4b6938"
      },
      "execution_count": null,
      "outputs": [
        {
          "output_type": "stream",
          "name": "stdout",
          "text": [
            "Model: \"tfgpt2_model\"\n",
            "_________________________________________________________________\n",
            " Layer (type)                Output Shape              Param #   \n",
            "=================================================================\n",
            " transformer (TFGPT2MainLaye  multiple                 124440576 \n",
            " r)                                                              \n",
            "                                                                 \n",
            "=================================================================\n",
            "Total params: 163,038,720\n",
            "Trainable params: 38,598,144\n",
            "Non-trainable params: 124,440,576\n",
            "_________________________________________________________________\n"
          ]
        }
      ]
    },
    {
      "cell_type": "markdown",
      "source": [
        "Next we build on top of GPT2.\n",
        "The model takes in tokens and mask tensors. The outputs are the last hidden states of the last layer in the transformer. These are reduced using the mean over the sequence length, passed through 2 dense layers with dopout in between. The output layer has three node (softmax activation function for probabilities) for the three classes we want to predict (Negative, Neutral and Positive)."
      ],
      "metadata": {
        "id": "f_woWSvvvMdw"
      }
    },
    {
      "cell_type": "code",
      "source": [
        "input = tf.keras.layers.Input(shape=(None,), dtype='int32')\n",
        "mask = tf.keras.layers.Input(shape=(None,), dtype='int32')\n",
        "x = model(input, attention_mask=mask)\n",
        "#x = x.last_hidden_state[:, -1]\n",
        "x = tf.reduce_mean(x.last_hidden_state, axis=1)\n",
        "x = tf.keras.layers.Dense(16, activation='relu')(x)\n",
        "x = tf.keras.layers.Dropout(0.3)(x)\n",
        "output = tf.keras.layers.Dense(3, activation='softmax')(x)"
      ],
      "metadata": {
        "id": "-kzjWN8yvAHj"
      },
      "execution_count": null,
      "outputs": []
    },
    {
      "cell_type": "code",
      "source": [
        "clf = tf.keras.Model([input, mask], output)"
      ],
      "metadata": {
        "id": "XZqhNq5u2fI5"
      },
      "execution_count": null,
      "outputs": []
    },
    {
      "cell_type": "code",
      "source": [
        "clf.summary()"
      ],
      "metadata": {
        "colab": {
          "base_uri": "https://localhost:8080/"
        },
        "id": "YrFOc6oeI-dG",
        "outputId": "e8ead82d-fe3d-4d78-aa65-72ed7cf55617"
      },
      "execution_count": null,
      "outputs": [
        {
          "output_type": "stream",
          "name": "stdout",
          "text": [
            "Model: \"model\"\n",
            "__________________________________________________________________________________________________\n",
            " Layer (type)                   Output Shape         Param #     Connected to                     \n",
            "==================================================================================================\n",
            " input_1 (InputLayer)           [(None, None)]       0           []                               \n",
            "                                                                                                  \n",
            " input_2 (InputLayer)           [(None, None)]       0           []                               \n",
            "                                                                                                  \n",
            " tfgpt2_model (TFGPT2Model)     TFBaseModelOutputWi  124440576   ['input_1[0][0]',                \n",
            "                                thPastAndCrossAtten               'input_2[0][0]']                \n",
            "                                tions(last_hidden_s                                               \n",
            "                                tate=(None, None, 7                                               \n",
            "                                68),                                                              \n",
            "                                 past_key_values=No                                               \n",
            "                                ne, hidden_states=N                                               \n",
            "                                one, attentions=Non                                               \n",
            "                                e, cross_attentions                                               \n",
            "                                =None)                                                            \n",
            "                                                                                                  \n",
            " tf.math.reduce_mean (TFOpLambd  (None, 768)         0           ['tfgpt2_model[0][0]']           \n",
            " a)                                                                                               \n",
            "                                                                                                  \n",
            " dense (Dense)                  (None, 16)           12304       ['tf.math.reduce_mean[0][0]']    \n",
            "                                                                                                  \n",
            " dropout_37 (Dropout)           (None, 16)           0           ['dense[0][0]']                  \n",
            "                                                                                                  \n",
            " dense_1 (Dense)                (None, 3)            51          ['dropout_37[0][0]']             \n",
            "                                                                                                  \n",
            "==================================================================================================\n",
            "Total params: 163,051,075\n",
            "Trainable params: 38,610,499\n",
            "Non-trainable params: 124,440,576\n",
            "__________________________________________________________________________________________________\n"
          ]
        }
      ]
    },
    {
      "cell_type": "markdown",
      "source": [
        "Next we compile the model choosing the learning rate, loss function and the metric to monitor. Also a callback function."
      ],
      "metadata": {
        "id": "FJqkOZqJyGT7"
      }
    },
    {
      "cell_type": "code",
      "source": [
        "base_learning_rate = 0.0005\n",
        "optimizer=tf.keras.optimizers.Adam(learning_rate=base_learning_rate)\n",
        "#loss=tf.keras.losses.BinaryCrossentropy()\n",
        "loss=tf.keras.losses.SparseCategoricalCrossentropy()\n",
        "\n",
        "clf.compile(optimizer=optimizer, loss=loss, metrics=['accuracy'])"
      ],
      "metadata": {
        "id": "X4KrjE58_Ela"
      },
      "execution_count": null,
      "outputs": []
    },
    {
      "cell_type": "code",
      "source": [
        "callbacks = tf.keras.callbacks.EarlyStopping(\n",
        "        monitor=\"accuracy\", verbose=1, patience=3, restore_best_weights=True)"
      ],
      "metadata": {
        "id": "HD2ppmZVqwQf"
      },
      "execution_count": null,
      "outputs": []
    },
    {
      "cell_type": "markdown",
      "source": [
        "Last thing we need to do is preparing the target tensor."
      ],
      "metadata": {
        "id": "GxEzyIoHyisD"
      }
    },
    {
      "cell_type": "code",
      "source": [
        "def map_sentiment(value):\n",
        "  if value == 'Negative':\n",
        "    return 0\n",
        "  if value == 'Neutral':\n",
        "    return 1\n",
        "  if value == 'Positive':\n",
        "    return 2"
      ],
      "metadata": {
        "id": "ehe1Rjir3qlD"
      },
      "execution_count": null,
      "outputs": []
    },
    {
      "cell_type": "code",
      "source": [
        "y_train_ = y_train.map(map_sentiment)\n",
        "y_test_ = y_test.map(map_sentiment)"
      ],
      "metadata": {
        "id": "WMSKFwIu1E-1"
      },
      "execution_count": null,
      "outputs": []
    },
    {
      "cell_type": "code",
      "source": [
        "y_train_in = tf.constant(y_train_, dtype=tf.int32)\n",
        "y_test_in = tf.constant(y_test_, dtype=tf.int32)"
      ],
      "metadata": {
        "id": "NI407MGy4QKA"
      },
      "execution_count": null,
      "outputs": []
    },
    {
      "cell_type": "code",
      "source": [
        "tf.config.experimental_run_functions_eagerly(True)"
      ],
      "metadata": {
        "id": "ShQqGADWOcJe",
        "colab": {
          "base_uri": "https://localhost:8080/"
        },
        "outputId": "cc0490c5-c566-4199-9ff9-50a2f28ba616"
      },
      "execution_count": null,
      "outputs": [
        {
          "output_type": "stream",
          "name": "stdout",
          "text": [
            "WARNING:tensorflow:From <ipython-input-28-bdb3352f611a>:1: experimental_run_functions_eagerly (from tensorflow.python.eager.def_function) is deprecated and will be removed in a future version.\n",
            "Instructions for updating:\n",
            "Use `tf.config.run_functions_eagerly` instead of the experimental version.\n"
          ]
        }
      ]
    },
    {
      "cell_type": "markdown",
      "source": [
        "We then train the model passing number of epochs, batch_size and validation split."
      ],
      "metadata": {
        "id": "ydGFl-GJytDf"
      }
    },
    {
      "cell_type": "code",
      "source": [
        "history = clf.fit([X_train_in, X_train_mask], y_train_in, epochs=30, batch_size=32, validation_split=0.2, callbacks=callbacks)"
      ],
      "metadata": {
        "colab": {
          "base_uri": "https://localhost:8080/"
        },
        "id": "2zHHlvvpBoBU",
        "outputId": "bd85ba61-7d1f-499c-f9e6-7fb3c583db2e"
      },
      "execution_count": null,
      "outputs": [
        {
          "output_type": "stream",
          "name": "stdout",
          "text": [
            "Epoch 1/30\n"
          ]
        },
        {
          "output_type": "stream",
          "name": "stderr",
          "text": [
            "/usr/local/lib/python3.7/dist-packages/tensorflow/python/data/ops/structured_function.py:265: UserWarning: Even though the `tf.config.experimental_run_functions_eagerly` option is set, this option does not apply to tf.data functions. To force eager execution of tf.data functions, please use `tf.data.experimental.enable_debug_mode()`.\n",
            "  \"Even though the `tf.config.experimental_run_functions_eagerly` \"\n"
          ]
        },
        {
          "output_type": "stream",
          "name": "stdout",
          "text": [
            "40/40 [==============================] - 496s 12s/step - loss: 4.7046 - accuracy: 0.3625 - val_loss: 1.6923 - val_accuracy: 0.4809\n",
            "Epoch 2/30\n",
            "40/40 [==============================] - 493s 12s/step - loss: 2.6448 - accuracy: 0.4120 - val_loss: 1.0724 - val_accuracy: 0.5064\n",
            "Epoch 3/30\n",
            "40/40 [==============================] - 497s 12s/step - loss: 1.4117 - accuracy: 0.4765 - val_loss: 0.9622 - val_accuracy: 0.5096\n",
            "Epoch 4/30\n",
            "40/40 [==============================] - 500s 13s/step - loss: 0.9828 - accuracy: 0.5307 - val_loss: 0.9714 - val_accuracy: 0.5159\n",
            "Epoch 5/30\n",
            "40/40 [==============================] - 510s 13s/step - loss: 0.9151 - accuracy: 0.5649 - val_loss: 0.9340 - val_accuracy: 0.5255\n",
            "Epoch 6/30\n",
            "40/40 [==============================] - 505s 13s/step - loss: 0.8658 - accuracy: 0.5809 - val_loss: 0.9015 - val_accuracy: 0.5510\n",
            "Epoch 7/30\n",
            "40/40 [==============================] - 509s 13s/step - loss: 0.8396 - accuracy: 0.6143 - val_loss: 0.8887 - val_accuracy: 0.5446\n",
            "Epoch 8/30\n",
            "40/40 [==============================] - 500s 13s/step - loss: 0.7960 - accuracy: 0.6375 - val_loss: 0.8870 - val_accuracy: 0.5446\n",
            "Epoch 9/30\n",
            "40/40 [==============================] - 506s 13s/step - loss: 0.7506 - accuracy: 0.6614 - val_loss: 0.8640 - val_accuracy: 0.5605\n",
            "Epoch 10/30\n",
            "40/40 [==============================] - 499s 12s/step - loss: 0.7307 - accuracy: 0.6741 - val_loss: 0.8598 - val_accuracy: 0.5828\n",
            "Epoch 11/30\n",
            "40/40 [==============================] - 497s 12s/step - loss: 0.6921 - accuracy: 0.6988 - val_loss: 0.9266 - val_accuracy: 0.5446\n",
            "Epoch 12/30\n",
            "40/40 [==============================] - 491s 12s/step - loss: 0.6466 - accuracy: 0.7211 - val_loss: 0.8812 - val_accuracy: 0.5764\n",
            "Epoch 13/30\n",
            "40/40 [==============================] - 497s 12s/step - loss: 0.6026 - accuracy: 0.7442 - val_loss: 0.8353 - val_accuracy: 0.6242\n",
            "Epoch 14/30\n",
            "40/40 [==============================] - 492s 12s/step - loss: 0.5537 - accuracy: 0.7625 - val_loss: 0.8558 - val_accuracy: 0.5955\n",
            "Epoch 15/30\n",
            "40/40 [==============================] - 492s 12s/step - loss: 0.5071 - accuracy: 0.7976 - val_loss: 0.8467 - val_accuracy: 0.6306\n",
            "Epoch 16/30\n",
            "40/40 [==============================] - 493s 12s/step - loss: 0.4620 - accuracy: 0.8239 - val_loss: 0.8446 - val_accuracy: 0.6146\n",
            "Epoch 17/30\n",
            "40/40 [==============================] - 494s 12s/step - loss: 0.4315 - accuracy: 0.8255 - val_loss: 0.8545 - val_accuracy: 0.6433\n",
            "Epoch 18/30\n",
            "40/40 [==============================] - 499s 13s/step - loss: 0.3911 - accuracy: 0.8518 - val_loss: 0.8702 - val_accuracy: 0.6306\n",
            "Epoch 19/30\n",
            "40/40 [==============================] - 493s 12s/step - loss: 0.3461 - accuracy: 0.8733 - val_loss: 0.8859 - val_accuracy: 0.6401\n",
            "Epoch 20/30\n",
            "40/40 [==============================] - 492s 12s/step - loss: 0.3163 - accuracy: 0.8781 - val_loss: 0.8936 - val_accuracy: 0.6401\n",
            "Epoch 21/30\n",
            "40/40 [==============================] - 497s 12s/step - loss: 0.2854 - accuracy: 0.9004 - val_loss: 0.9462 - val_accuracy: 0.6465\n",
            "Epoch 22/30\n",
            "40/40 [==============================] - 495s 12s/step - loss: 0.2513 - accuracy: 0.9147 - val_loss: 0.9629 - val_accuracy: 0.6561\n",
            "Epoch 23/30\n",
            "40/40 [==============================] - 492s 12s/step - loss: 0.2452 - accuracy: 0.9124 - val_loss: 0.9532 - val_accuracy: 0.6497\n",
            "Epoch 24/30\n",
            "40/40 [==============================] - 489s 12s/step - loss: 0.2135 - accuracy: 0.9434 - val_loss: 1.0010 - val_accuracy: 0.6529\n",
            "Epoch 25/30\n",
            "40/40 [==============================] - 488s 12s/step - loss: 0.1950 - accuracy: 0.9307 - val_loss: 1.0453 - val_accuracy: 0.6433\n",
            "Epoch 26/30\n",
            "40/40 [==============================] - 485s 12s/step - loss: 0.1820 - accuracy: 0.9482 - val_loss: 1.0496 - val_accuracy: 0.6401\n",
            "Epoch 27/30\n",
            "40/40 [==============================] - 491s 12s/step - loss: 0.1584 - accuracy: 0.9514 - val_loss: 1.0737 - val_accuracy: 0.6369\n",
            "Epoch 28/30\n",
            "40/40 [==============================] - 485s 12s/step - loss: 0.1528 - accuracy: 0.9498 - val_loss: 1.0884 - val_accuracy: 0.6433\n",
            "Epoch 29/30\n",
            "40/40 [==============================] - 484s 12s/step - loss: 0.1443 - accuracy: 0.9562 - val_loss: 1.1365 - val_accuracy: 0.6338\n",
            "Epoch 30/30\n",
            "40/40 [==============================] - 492s 12s/step - loss: 0.1435 - accuracy: 0.9546 - val_loss: 1.1518 - val_accuracy: 0.6401\n"
          ]
        }
      ]
    },
    {
      "cell_type": "markdown",
      "source": [
        "We can now evaluate the model on the test set."
      ],
      "metadata": {
        "id": "oL_gByEIzIDO"
      }
    },
    {
      "cell_type": "code",
      "source": [
        "clf.evaluate([X_test_in, X_test_mask], y_test_in)"
      ],
      "metadata": {
        "id": "S_f16u8TB6t9",
        "colab": {
          "base_uri": "https://localhost:8080/"
        },
        "outputId": "3ec64c4e-4e80-4573-e54f-eb6edb08e3c1"
      },
      "execution_count": null,
      "outputs": [
        {
          "output_type": "stream",
          "name": "stderr",
          "text": [
            "/usr/local/lib/python3.7/dist-packages/tensorflow/python/data/ops/structured_function.py:265: UserWarning: Even though the `tf.config.experimental_run_functions_eagerly` option is set, this option does not apply to tf.data functions. To force eager execution of tf.data functions, please use `tf.data.experimental.enable_debug_mode()`.\n",
            "  \"Even though the `tf.config.experimental_run_functions_eagerly` \"\n"
          ]
        },
        {
          "output_type": "stream",
          "name": "stdout",
          "text": [
            "17/17 [==============================] - 58s 3s/step - loss: 1.0816 - accuracy: 0.6469\n"
          ]
        },
        {
          "output_type": "execute_result",
          "data": {
            "text/plain": [
              "[1.0816469192504883, 0.6469465494155884]"
            ]
          },
          "metadata": {},
          "execution_count": 30
        }
      ]
    },
    {
      "cell_type": "code",
      "source": [
        "clf.training = False\n",
        "y_pred = clf.predict([X_test_in, X_test_mask])"
      ],
      "metadata": {
        "id": "5nscIr_bltNY",
        "colab": {
          "base_uri": "https://localhost:8080/"
        },
        "outputId": "e1102873-3e01-42f9-f424-d30c13d13378"
      },
      "execution_count": null,
      "outputs": [
        {
          "output_type": "stream",
          "name": "stderr",
          "text": [
            "/usr/local/lib/python3.7/dist-packages/tensorflow/python/data/ops/structured_function.py:265: UserWarning: Even though the `tf.config.experimental_run_functions_eagerly` option is set, this option does not apply to tf.data functions. To force eager execution of tf.data functions, please use `tf.data.experimental.enable_debug_mode()`.\n",
            "  \"Even though the `tf.config.experimental_run_functions_eagerly` \"\n"
          ]
        }
      ]
    },
    {
      "cell_type": "code",
      "source": [
        "y_pred_out = tf.math.argmax(y_pred, axis=-1)\n",
        "y_pred_out"
      ],
      "metadata": {
        "id": "OT4Av95jmpUt",
        "colab": {
          "base_uri": "https://localhost:8080/"
        },
        "outputId": "917d0a6f-0883-4b0c-cc16-01a33f836c4a"
      },
      "execution_count": null,
      "outputs": [
        {
          "output_type": "execute_result",
          "data": {
            "text/plain": [
              "<tf.Tensor: shape=(524,), dtype=int64, numpy=\n",
              "array([2, 1, 2, 1, 2, 1, 0, 2, 2, 0, 0, 0, 2, 2, 2, 0, 2, 1, 1, 2, 1, 2,\n",
              "       0, 1, 2, 2, 1, 1, 1, 1, 1, 2, 2, 0, 2, 0, 2, 2, 2, 2, 1, 1, 2, 2,\n",
              "       1, 2, 2, 2, 1, 1, 0, 2, 2, 2, 2, 1, 1, 2, 1, 2, 2, 1, 0, 2, 1, 2,\n",
              "       2, 0, 1, 2, 2, 2, 0, 1, 1, 2, 0, 1, 0, 0, 1, 2, 2, 0, 0, 2, 0, 2,\n",
              "       0, 2, 2, 2, 0, 1, 2, 2, 1, 2, 2, 1, 2, 2, 1, 2, 2, 0, 2, 2, 2, 2,\n",
              "       2, 1, 1, 2, 2, 2, 0, 2, 0, 2, 1, 2, 1, 2, 0, 0, 1, 2, 1, 2, 2, 1,\n",
              "       2, 1, 1, 2, 2, 2, 1, 2, 1, 1, 2, 2, 1, 0, 2, 2, 2, 1, 1, 0, 0, 1,\n",
              "       2, 2, 0, 2, 2, 1, 2, 2, 0, 2, 0, 2, 0, 1, 2, 2, 1, 2, 2, 0, 2, 1,\n",
              "       1, 2, 1, 1, 0, 0, 2, 2, 2, 0, 2, 1, 0, 2, 1, 2, 0, 0, 2, 0, 1, 0,\n",
              "       1, 0, 0, 2, 2, 1, 2, 2, 1, 0, 2, 2, 2, 2, 2, 0, 0, 0, 0, 0, 2, 2,\n",
              "       1, 2, 0, 2, 1, 1, 2, 0, 0, 2, 1, 2, 1, 1, 1, 2, 2, 2, 2, 0, 1, 2,\n",
              "       2, 1, 0, 1, 1, 2, 2, 0, 2, 0, 2, 2, 2, 1, 0, 2, 0, 0, 2, 2, 2, 0,\n",
              "       0, 2, 1, 0, 2, 1, 2, 1, 2, 1, 2, 2, 1, 0, 1, 2, 2, 0, 1, 1, 0, 2,\n",
              "       2, 2, 0, 0, 2, 1, 0, 2, 1, 2, 2, 1, 2, 0, 1, 1, 2, 2, 1, 1, 1, 2,\n",
              "       2, 2, 2, 2, 0, 2, 0, 2, 2, 1, 2, 2, 0, 2, 2, 1, 2, 0, 1, 2, 1, 0,\n",
              "       2, 0, 1, 0, 0, 2, 2, 0, 0, 2, 1, 0, 0, 2, 1, 1, 2, 2, 1, 1, 2, 2,\n",
              "       1, 2, 2, 1, 2, 0, 2, 0, 2, 2, 2, 2, 2, 2, 2, 2, 0, 2, 0, 2, 2, 2,\n",
              "       0, 2, 0, 0, 2, 0, 2, 2, 2, 1, 1, 1, 0, 1, 2, 2, 0, 2, 0, 2, 2, 2,\n",
              "       2, 1, 2, 2, 2, 2, 2, 2, 1, 2, 2, 2, 2, 2, 0, 1, 2, 1, 2, 2, 2, 0,\n",
              "       2, 0, 1, 2, 1, 0, 1, 0, 2, 2, 1, 0, 2, 2, 2, 1, 1, 1, 2, 1, 1, 1,\n",
              "       1, 2, 0, 0, 0, 2, 1, 1, 2, 0, 1, 0, 2, 0, 2, 1, 1, 0, 0, 1, 2, 0,\n",
              "       0, 0, 2, 2, 1, 1, 2, 2, 2, 2, 1, 2, 0, 1, 0, 0, 0, 2, 1, 0, 1, 1,\n",
              "       2, 2, 2, 0, 2, 2, 2, 0, 2, 2, 0, 1, 1, 0, 1, 2, 0, 1, 1, 0, 2, 2,\n",
              "       1, 2, 1, 2, 1, 1, 2, 2, 2, 0, 0, 2, 1, 2, 0, 1, 2, 0])>"
            ]
          },
          "metadata": {},
          "execution_count": 32
        }
      ]
    },
    {
      "cell_type": "markdown",
      "source": [
        "We can now evaluate the model on the test set using the classification report and confusion matrix."
      ],
      "metadata": {
        "id": "CJiVWYjBz-fF"
      }
    },
    {
      "cell_type": "code",
      "source": [
        "from matplotlib import pyplot as plt\n",
        "import seaborn as sns\n",
        "from sklearn.metrics import confusion_matrix\n",
        "from sklearn.metrics import classification_report"
      ],
      "metadata": {
        "id": "RBe9C66i2KSi"
      },
      "execution_count": null,
      "outputs": []
    },
    {
      "cell_type": "code",
      "source": [
        "print(classification_report(y_test_in, y_pred_out))"
      ],
      "metadata": {
        "id": "LBHhKseWiMFg",
        "colab": {
          "base_uri": "https://localhost:8080/"
        },
        "outputId": "f2b27ce8-1f85-4036-abc0-9b5d49b5cc5f"
      },
      "execution_count": null,
      "outputs": [
        {
          "output_type": "stream",
          "name": "stdout",
          "text": [
            "              precision    recall  f1-score   support\n",
            "\n",
            "           0       0.60      0.56      0.58       134\n",
            "           1       0.76      0.60      0.67       183\n",
            "           2       0.60      0.75      0.67       207\n",
            "\n",
            "    accuracy                           0.65       524\n",
            "   macro avg       0.66      0.63      0.64       524\n",
            "weighted avg       0.66      0.65      0.65       524\n",
            "\n"
          ]
        }
      ]
    },
    {
      "cell_type": "markdown",
      "source": [
        "We notice right away that the model, overall, has a good precision and recall on all classes. The model has more difficulties in predicting the negative class (0), expecially recall.\n",
        "\n",
        "Of all the predicted negative, 60% were actually negative - the model has a decent precision. Of all the ones that were actually negative, only 56% were predicted negative - the model struggles recalling (recall metric) the negative class.\n",
        "\n",
        "Below is the confusion matrix that helps understand it better."
      ],
      "metadata": {
        "id": "0K1-fYGc1wXP"
      }
    },
    {
      "cell_type": "code",
      "source": [
        "confusion_df = pd.DataFrame(confusion_matrix(y_test_in, y_pred_out))\n",
        "confusion_df.index = ['Actual -1', 'Actual 0', 'Actual 1']\n",
        "confusion_df.columns = ['Predicted -1', 'Predicted 0', 'Predicted 1']\n",
        "confusion_df"
      ],
      "metadata": {
        "id": "at565HvhlV5w",
        "colab": {
          "base_uri": "https://localhost:8080/",
          "height": 143
        },
        "outputId": "d8d958db-7364-4d5b-d1da-f753bfd04885"
      },
      "execution_count": null,
      "outputs": [
        {
          "output_type": "execute_result",
          "data": {
            "text/plain": [
              "           Predicted -1  Predicted 0  Predicted 1\n",
              "Actual -1            75           13           46\n",
              "Actual 0             18          109           56\n",
              "Actual 1             31           21          155"
            ],
            "text/html": [
              "\n",
              "  <div id=\"df-f0d1fbf4-d448-4a1f-8baf-ffed7e563639\">\n",
              "    <div class=\"colab-df-container\">\n",
              "      <div>\n",
              "<style scoped>\n",
              "    .dataframe tbody tr th:only-of-type {\n",
              "        vertical-align: middle;\n",
              "    }\n",
              "\n",
              "    .dataframe tbody tr th {\n",
              "        vertical-align: top;\n",
              "    }\n",
              "\n",
              "    .dataframe thead th {\n",
              "        text-align: right;\n",
              "    }\n",
              "</style>\n",
              "<table border=\"1\" class=\"dataframe\">\n",
              "  <thead>\n",
              "    <tr style=\"text-align: right;\">\n",
              "      <th></th>\n",
              "      <th>Predicted -1</th>\n",
              "      <th>Predicted 0</th>\n",
              "      <th>Predicted 1</th>\n",
              "    </tr>\n",
              "  </thead>\n",
              "  <tbody>\n",
              "    <tr>\n",
              "      <th>Actual -1</th>\n",
              "      <td>75</td>\n",
              "      <td>13</td>\n",
              "      <td>46</td>\n",
              "    </tr>\n",
              "    <tr>\n",
              "      <th>Actual 0</th>\n",
              "      <td>18</td>\n",
              "      <td>109</td>\n",
              "      <td>56</td>\n",
              "    </tr>\n",
              "    <tr>\n",
              "      <th>Actual 1</th>\n",
              "      <td>31</td>\n",
              "      <td>21</td>\n",
              "      <td>155</td>\n",
              "    </tr>\n",
              "  </tbody>\n",
              "</table>\n",
              "</div>\n",
              "      <button class=\"colab-df-convert\" onclick=\"convertToInteractive('df-f0d1fbf4-d448-4a1f-8baf-ffed7e563639')\"\n",
              "              title=\"Convert this dataframe to an interactive table.\"\n",
              "              style=\"display:none;\">\n",
              "        \n",
              "  <svg xmlns=\"http://www.w3.org/2000/svg\" height=\"24px\"viewBox=\"0 0 24 24\"\n",
              "       width=\"24px\">\n",
              "    <path d=\"M0 0h24v24H0V0z\" fill=\"none\"/>\n",
              "    <path d=\"M18.56 5.44l.94 2.06.94-2.06 2.06-.94-2.06-.94-.94-2.06-.94 2.06-2.06.94zm-11 1L8.5 8.5l.94-2.06 2.06-.94-2.06-.94L8.5 2.5l-.94 2.06-2.06.94zm10 10l.94 2.06.94-2.06 2.06-.94-2.06-.94-.94-2.06-.94 2.06-2.06.94z\"/><path d=\"M17.41 7.96l-1.37-1.37c-.4-.4-.92-.59-1.43-.59-.52 0-1.04.2-1.43.59L10.3 9.45l-7.72 7.72c-.78.78-.78 2.05 0 2.83L4 21.41c.39.39.9.59 1.41.59.51 0 1.02-.2 1.41-.59l7.78-7.78 2.81-2.81c.8-.78.8-2.07 0-2.86zM5.41 20L4 18.59l7.72-7.72 1.47 1.35L5.41 20z\"/>\n",
              "  </svg>\n",
              "      </button>\n",
              "      \n",
              "  <style>\n",
              "    .colab-df-container {\n",
              "      display:flex;\n",
              "      flex-wrap:wrap;\n",
              "      gap: 12px;\n",
              "    }\n",
              "\n",
              "    .colab-df-convert {\n",
              "      background-color: #E8F0FE;\n",
              "      border: none;\n",
              "      border-radius: 50%;\n",
              "      cursor: pointer;\n",
              "      display: none;\n",
              "      fill: #1967D2;\n",
              "      height: 32px;\n",
              "      padding: 0 0 0 0;\n",
              "      width: 32px;\n",
              "    }\n",
              "\n",
              "    .colab-df-convert:hover {\n",
              "      background-color: #E2EBFA;\n",
              "      box-shadow: 0px 1px 2px rgba(60, 64, 67, 0.3), 0px 1px 3px 1px rgba(60, 64, 67, 0.15);\n",
              "      fill: #174EA6;\n",
              "    }\n",
              "\n",
              "    [theme=dark] .colab-df-convert {\n",
              "      background-color: #3B4455;\n",
              "      fill: #D2E3FC;\n",
              "    }\n",
              "\n",
              "    [theme=dark] .colab-df-convert:hover {\n",
              "      background-color: #434B5C;\n",
              "      box-shadow: 0px 1px 3px 1px rgba(0, 0, 0, 0.15);\n",
              "      filter: drop-shadow(0px 1px 2px rgba(0, 0, 0, 0.3));\n",
              "      fill: #FFFFFF;\n",
              "    }\n",
              "  </style>\n",
              "\n",
              "      <script>\n",
              "        const buttonEl =\n",
              "          document.querySelector('#df-f0d1fbf4-d448-4a1f-8baf-ffed7e563639 button.colab-df-convert');\n",
              "        buttonEl.style.display =\n",
              "          google.colab.kernel.accessAllowed ? 'block' : 'none';\n",
              "\n",
              "        async function convertToInteractive(key) {\n",
              "          const element = document.querySelector('#df-f0d1fbf4-d448-4a1f-8baf-ffed7e563639');\n",
              "          const dataTable =\n",
              "            await google.colab.kernel.invokeFunction('convertToInteractive',\n",
              "                                                     [key], {});\n",
              "          if (!dataTable) return;\n",
              "\n",
              "          const docLinkHtml = 'Like what you see? Visit the ' +\n",
              "            '<a target=\"_blank\" href=https://colab.research.google.com/notebooks/data_table.ipynb>data table notebook</a>'\n",
              "            + ' to learn more about interactive tables.';\n",
              "          element.innerHTML = '';\n",
              "          dataTable['output_type'] = 'display_data';\n",
              "          await google.colab.output.renderOutput(dataTable, element);\n",
              "          const docLink = document.createElement('div');\n",
              "          docLink.innerHTML = docLinkHtml;\n",
              "          element.appendChild(docLink);\n",
              "        }\n",
              "      </script>\n",
              "    </div>\n",
              "  </div>\n",
              "  "
            ]
          },
          "metadata": {},
          "execution_count": 35
        }
      ]
    },
    {
      "cell_type": "code",
      "source": [
        "plt.figure(figsize=(12, 8))\n",
        "sns.heatmap(confusion_df, annot=True, fmt='d', linewidths=0.5) \n",
        "plt.yticks(rotation=0)\n",
        "plt.xticks(rotation=45)\n",
        "plt.show()"
      ],
      "metadata": {
        "id": "FDZUeFX8lW_n",
        "colab": {
          "base_uri": "https://localhost:8080/",
          "height": 522
        },
        "outputId": "f2ac829a-f6f0-435d-9b37-e87ba7807021"
      },
      "execution_count": null,
      "outputs": [
        {
          "output_type": "display_data",
          "data": {
            "text/plain": [
              "<Figure size 864x576 with 2 Axes>"
            ],
            "image/png": "[encoded data removed]"
          },
          "metadata": {
            "needs_background": "light"
          }
        }
      ]
    },
    {
      "cell_type": "markdown",
      "source": [
        "Overall the model doesn't seem to outperform logistic regression and random forest. \n",
        "It's worth noticing that the model is overfitting so it would be nice to re-train it, playing with learning rate, weight decay and dropout rate.  "
      ],
      "metadata": {
        "id": "y3Ekf7G12UmA"
      }
    },
    {
      "cell_type": "code",
      "source": [
        "clf.save_weights('/content/gdrive/My Drive/Data Science/saved_model/GPT2_transfer_learning')"
      ],
      "metadata": {
        "id": "bDS7Na_en4lY"
      },
      "execution_count": null,
      "outputs": []
    }
  ]
}